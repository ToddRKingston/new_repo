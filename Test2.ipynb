{
 "cells": [
  {
   "cell_type": "code",
   "execution_count": 1,
   "metadata": {
    "collapsed": true
   },
   "outputs": [],
   "source": [
    "import re"
   ]
  },
  {
   "cell_type": "code",
   "execution_count": 49,
   "metadata": {
    "collapsed": false
   },
   "outputs": [
    {
     "name": "stdout",
     "output_type": "stream",
     "text": [
      "['here', 'are', 'some', 'words']\n",
      "['here', ' ', 'are', ' ', 'some', ' ', 'words']\n",
      "['here are ', 's', 'ome word', 's', '']\n",
      "['', '', 'o', 'in', 'po', 'in', '', 'o', 'i', '', 'A;DFOAGL;DNG']\n",
      "['', '', 'o', 'in', 'po', 'in', '', 'o', 'i', '', '', ';', '', 'O', 'GL;', 'NG']\n"
     ]
    }
   ],
   "source": [
    "print(re.split(r'\\s*',\"here are some words\"))\n",
    "print(re.split(r'(\\s*)',\"here are some words\"))\n",
    "print(re.split(r'(s*)',\"here are some words\"))\n",
    "print(re.split(r'[a-f]','adofinapofinafoaiefA;DFOAGL;DNG'))\n",
    "print(re.split(r'[a-f]','adofinapofinafoaiefA;DFOAGL;DNG',\n",
    "              flags = re.I|re.M))"
   ]
  },
  {
   "cell_type": "code",
   "execution_count": 3,
   "metadata": {
    "collapsed": false
   },
   "outputs": [
    {
     "name": "stdout",
     "output_type": "stream",
     "text": [
      "hello\n"
     ]
    }
   ],
   "source": [
    "print \"hello\""
   ]
  },
  {
   "cell_type": "code",
   "execution_count": 15,
   "metadata": {
    "collapsed": false
   },
   "outputs": [
    {
     "name": "stdout",
     "output_type": "stream",
     "text": [
      "['324 main st.']\n"
     ]
    }
   ],
   "source": [
    "print(re.findall(r'\\d{1,5}\\s\\w+\\s\\w+\\.','afopianf324 main st.aogadlfkasdn'))"
   ]
  },
  {
   "cell_type": "code",
   "execution_count": 48,
   "metadata": {
    "collapsed": false
   },
   "outputs": [
    {
     "name": "stdout",
     "output_type": "stream",
     "text": [
      "Searching google\n",
      "<title>Google</title>\n",
      "Google\n",
      "Searching yahoo\n",
      "<title>Yahoo</title>\n",
      "Yahoo\n",
      "Searching cnn\n",
      "<title>CNN - Breaking News, Latest News and Videos</title>\n",
      "CNN - Breaking News, Latest News and Videos\n",
      "Searching msn\n",
      "<title>MSN.com - Hotmail, Outlook, Skype, Bing, Latest News, Photos &amp; Videos</title>\n",
      "MSN.com - Hotmail, Outlook, Skype, Bing, Latest News, Photos &amp; Videos\n"
     ]
    }
   ],
   "source": [
    "import re, urllib\n",
    "try: \n",
    "    import urllib.request\n",
    "except:\n",
    "    pass\n",
    "sites = 'google yahoo cnn msn'.split()\n",
    "pat = re.compile(r'<title>+.*</title>+',re.I|re.M)\n",
    "\n",
    "for s in sites :\n",
    "    print 'Searching ' + s\n",
    "    try: \n",
    "        u = urllib.urlopen('http://'+s+'.com')\n",
    "    except:\n",
    "        u = urllib.request.urlopen('http://'+s+'.com')\n",
    "    text = u.read()\n",
    "    title = re.findall(pat, str(text))\n",
    "    title2 = re.split(r'<title>',str(title))\n",
    "    title3 = re.split(r'</title>',str(title2[1]))\n",
    "    print title[0]\n",
    "    print title3[0]"
   ]
  },
  {
   "cell_type": "code",
   "execution_count": 50,
   "metadata": {
    "collapsed": false
   },
   "outputs": [
    {
     "name": "stdout",
     "output_type": "stream",
     "text": [
      "Searching google\n",
      "Google\n",
      "Searching yahoo\n",
      "Yahoo\n",
      "Searching cnn\n",
      "CNN - Breaking News, Latest News and Videos\n",
      "Searching msn\n",
      "MSN.com - Hotmail, Outlook, Skype, Bing, Latest News, Photos &amp; Videos\n"
     ]
    }
   ],
   "source": [
    "import re, urllib\n",
    "try: \n",
    "    import urllib.request\n",
    "except:\n",
    "    pass\n",
    "sites = 'google yahoo cnn msn'.split()\n",
    "pat = re.compile(r'<title>+.*</title>+',re.I|re.M)\n",
    "\n",
    "for s in sites :\n",
    "    print 'Searching ' + s\n",
    "    try: \n",
    "        u = urllib.urlopen('http://'+s+'.com')\n",
    "    except:\n",
    "        u = urllib.request.urlopen('http://'+s+'.com')\n",
    "    text = u.read()\n",
    "    title = re.findall(r'<title>(.*?)</title>+', str(text), re.I|re.M)\n",
    "    print title[0]"
   ]
  },
  {
   "cell_type": "code",
   "execution_count": null,
   "metadata": {
    "collapsed": true
   },
   "outputs": [],
   "source": []
  }
 ],
 "metadata": {
  "kernelspec": {
   "display_name": "Python 2",
   "language": "python",
   "name": "python2"
  },
  "language_info": {
   "codemirror_mode": {
    "name": "ipython",
    "version": 2
   },
   "file_extension": ".py",
   "mimetype": "text/x-python",
   "name": "python",
   "nbconvert_exporter": "python",
   "pygments_lexer": "ipython2",
   "version": "2.7.13"
  }
 },
 "nbformat": 4,
 "nbformat_minor": 2
}
